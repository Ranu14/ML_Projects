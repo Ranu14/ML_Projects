{
 "cells": [
  {
   "cell_type": "code",
   "execution_count": 1,
   "id": "005666e3",
   "metadata": {},
   "outputs": [],
   "source": [
    "import numpy as np\n",
    "import pandas as pd\n",
    "import os\n",
    "import seaborn as sns\n",
    "import matplotlib.pyplot as plt"
   ]
  },
  {
   "cell_type": "code",
   "execution_count": 2,
   "id": "e8770857",
   "metadata": {},
   "outputs": [],
   "source": [
    "os.chdir('C:\\\\Users\\\\HP\\\\Desktop\\\\ML_Prac')\n",
    "train_data= pd.read_csv('finance_train.csv')\n",
    "test_data= pd.read_csv('finance_test.csv')"
   ]
  },
  {
   "cell_type": "code",
   "execution_count": 3,
   "id": "2f6682f7",
   "metadata": {},
   "outputs": [
    {
     "data": {
      "text/plain": [
       "45-50      1091\n",
       "36-40       911\n",
       "41-45       889\n",
       "51-55       856\n",
       "31-35       841\n",
       "55-60       834\n",
       "26-30       750\n",
       "61-65       702\n",
       "65-70       480\n",
       "22-25       359\n",
       "71+         322\n",
       "18-21        48\n",
       "Unknown      41\n",
       "Name: age_band, dtype: int64"
      ]
     },
     "execution_count": 3,
     "metadata": {},
     "output_type": "execute_result"
    }
   ],
   "source": [
    "train_data['age_band'].value_counts()"
   ]
  },
  {
   "cell_type": "code",
   "execution_count": 4,
   "id": "028e18d4",
   "metadata": {},
   "outputs": [],
   "source": [
    "train_data['age_band']=np.where(train_data['age_band'].str[:2]=='71','71-80',train_data['age_band'])"
   ]
  },
  {
   "cell_type": "code",
   "execution_count": 5,
   "id": "5dcb9153",
   "metadata": {},
   "outputs": [
    {
     "data": {
      "text/plain": [
       "Int64Index([ 238,  273,  302,  315,  330,  446,  599,  689,  793, 1591, 1649,\n",
       "            2457, 2518, 2819, 2907, 3357, 3372, 3739, 3847, 4262, 4308, 4464,\n",
       "            4882, 4901, 5417, 5430, 5580, 6114, 6349, 6652, 6699, 6802, 7113,\n",
       "            7140, 7174, 7250, 7376, 7681, 7787, 7869, 7943],\n",
       "           dtype='int64')"
      ]
     },
     "execution_count": 5,
     "metadata": {},
     "output_type": "execute_result"
    }
   ],
   "source": [
    "ddr=train_data.loc[train_data['age_band']=='Unknown']\n",
    "ddr.index"
   ]
  },
  {
   "cell_type": "code",
   "execution_count": 6,
   "id": "d80a4a44",
   "metadata": {},
   "outputs": [],
   "source": [
    "train_data.drop(ddr.index,inplace=True)"
   ]
  },
  {
   "cell_type": "code",
   "execution_count": 7,
   "id": "59083045",
   "metadata": {},
   "outputs": [
    {
     "data": {
      "text/plain": [
       "45-50    1091\n",
       "36-40     911\n",
       "41-45     889\n",
       "51-55     856\n",
       "31-35     841\n",
       "55-60     834\n",
       "26-30     750\n",
       "61-65     702\n",
       "65-70     480\n",
       "22-25     359\n",
       "71-80     322\n",
       "18-21      48\n",
       "Name: age_band, dtype: int64"
      ]
     },
     "execution_count": 7,
     "metadata": {},
     "output_type": "execute_result"
    }
   ],
   "source": [
    "train_data['age_band'].value_counts()"
   ]
  },
  {
   "cell_type": "code",
   "execution_count": 8,
   "id": "b4307c86",
   "metadata": {},
   "outputs": [],
   "source": [
    "train_data[['Lage','Hage']]=train_data['age_band'].str.split(\"-\",expand=True).astype(float)\n",
    "train_data['age']=0.5*(train_data['Lage']+train_data['Hage'])\n",
    "del train_data['age_band']"
   ]
  },
  {
   "cell_type": "code",
   "execution_count": 9,
   "id": "5c060870",
   "metadata": {},
   "outputs": [
    {
     "data": {
      "text/plain": [
       "47.5    1091\n",
       "38.0     911\n",
       "43.0     889\n",
       "53.0     856\n",
       "33.0     841\n",
       "57.5     834\n",
       "28.0     750\n",
       "63.0     702\n",
       "67.5     480\n",
       "23.5     359\n",
       "75.5     322\n",
       "19.5      48\n",
       "Name: age, dtype: int64"
      ]
     },
     "execution_count": 9,
     "metadata": {},
     "output_type": "execute_result"
    }
   ],
   "source": [
    "train_data['age'].value_counts()"
   ]
  },
  {
   "cell_type": "code",
   "execution_count": 10,
   "id": "42f3c7f2",
   "metadata": {},
   "outputs": [
    {
     "data": {
      "text/plain": [
       ">=35,000             2031\n",
       "<27,500, >=25,000     978\n",
       "<30,000, >=27,500     788\n",
       "<25,000, >=22,500     676\n",
       "<20,000, >=17,500     542\n",
       "<12,500, >=10,000     536\n",
       "<17,500, >=15,000     511\n",
       "<15,000, >=12,500     497\n",
       "<22,500, >=20,000     460\n",
       "<10,000, >= 8,000     453\n",
       "< 8,000, >= 4,000     320\n",
       "< 4,000               222\n",
       "Unknown                69\n",
       "Name: family_income, dtype: int64"
      ]
     },
     "execution_count": 10,
     "metadata": {},
     "output_type": "execute_result"
    }
   ],
   "source": [
    "train_data['family_income'].value_counts()"
   ]
  },
  {
   "cell_type": "code",
   "execution_count": 11,
   "id": "3bfc23bd",
   "metadata": {},
   "outputs": [],
   "source": [
    "train_data['children']=train_data['children'].str.replace('Zero','0')\n",
    "train_data['children']=np.where(train_data['children'].str[:1]=='4',4,train_data['children'])\n",
    "train_data['children']=pd.to_numeric(train_data['children'],errors='coerce')"
   ]
  },
  {
   "cell_type": "code",
   "execution_count": 12,
   "id": "fb806ec2",
   "metadata": {},
   "outputs": [
    {
     "data": {
      "text/plain": [
       "0    4930\n",
       "1    1489\n",
       "2    1279\n",
       "3     373\n",
       "4      12\n",
       "Name: children, dtype: int64"
      ]
     },
     "execution_count": 12,
     "metadata": {},
     "output_type": "execute_result"
    }
   ],
   "source": [
    "train_data.children.value_counts()"
   ]
  },
  {
   "cell_type": "code",
   "execution_count": 13,
   "id": "19d51855",
   "metadata": {},
   "outputs": [],
   "source": [
    "train_data['Revenue.Grid']=(train_data['Revenue.Grid']==1).astype(int)"
   ]
  },
  {
   "cell_type": "code",
   "execution_count": 14,
   "id": "e2c2d1fe",
   "metadata": {},
   "outputs": [
    {
     "data": {
      "text/plain": [
       "Female     6085\n",
       "Male       1970\n",
       "Unknown      28\n",
       "Name: gender, dtype: int64"
      ]
     },
     "execution_count": 14,
     "metadata": {},
     "output_type": "execute_result"
    }
   ],
   "source": [
    "train_data['gender'].value_counts()"
   ]
  },
  {
   "cell_type": "code",
   "execution_count": 15,
   "id": "70fd0f89",
   "metadata": {},
   "outputs": [
    {
     "data": {
      "image/png": "[encoded data removed]",
      "text/plain": [
       "<Figure size 1080x432 with 1 Axes>"
      ]
     },
     "metadata": {},
     "output_type": "display_data"
    }
   ],
   "source": [
    "sns.set_style('whitegrid')\n",
    "sns.set_palette('hls',3)\n",
    "fig,ax=plt.subplots(figsize=(15,6))\n",
    "ax=sns.countplot(x='gender',hue='Revenue.Grid',data=train_data)"
   ]
  },
  {
   "cell_type": "code",
   "execution_count": 16,
   "id": "c962bdf8",
   "metadata": {},
   "outputs": [],
   "source": [
    "gender_rev=pd.crosstab(index=train_data['gender'],columns=train_data['Revenue.Grid'])"
   ]
  },
  {
   "cell_type": "code",
   "execution_count": 17,
   "id": "decfd38a",
   "metadata": {},
   "outputs": [
    {
     "data": {
      "text/html": [
       "<div>\n",
       "<style scoped>\n",
       "    .dataframe tbody tr th:only-of-type {\n",
       "        vertical-align: middle;\n",
       "    }\n",
       "\n",
       "    .dataframe tbody tr th {\n",
       "        vertical-align: top;\n",
       "    }\n",
       "\n",
       "    .dataframe thead th {\n",
       "        text-align: right;\n",
       "    }\n",
       "</style>\n",
       "<table border=\"1\" class=\"dataframe\">\n",
       "  <thead>\n",
       "    <tr style=\"text-align: right;\">\n",
       "      <th>Revenue.Grid</th>\n",
       "      <th>0</th>\n",
       "      <th>1</th>\n",
       "    </tr>\n",
       "    <tr>\n",
       "      <th>gender</th>\n",
       "      <th></th>\n",
       "      <th></th>\n",
       "    </tr>\n",
       "  </thead>\n",
       "  <tbody>\n",
       "    <tr>\n",
       "      <th>Female</th>\n",
       "      <td>5450</td>\n",
       "      <td>635</td>\n",
       "    </tr>\n",
       "    <tr>\n",
       "      <th>Male</th>\n",
       "      <td>1751</td>\n",
       "      <td>219</td>\n",
       "    </tr>\n",
       "    <tr>\n",
       "      <th>Unknown</th>\n",
       "      <td>21</td>\n",
       "      <td>7</td>\n",
       "    </tr>\n",
       "  </tbody>\n",
       "</table>\n",
       "</div>"
      ],
      "text/plain": [
       "Revenue.Grid     0    1\n",
       "gender                 \n",
       "Female        5450  635\n",
       "Male          1751  219\n",
       "Unknown         21    7"
      ]
     },
     "execution_count": 17,
     "metadata": {},
     "output_type": "execute_result"
    }
   ],
   "source": [
    "gender_rev"
   ]
  },
  {
   "cell_type": "code",
   "execution_count": 18,
   "id": "39fe3b39",
   "metadata": {},
   "outputs": [],
   "source": [
    "from scipy import stats\n",
    "(chi2,p,dof,_)=stats.chi2_contingency([gender_rev.iloc[0].values,gender_rev.iloc[1].values,gender_rev.iloc[2].values])"
   ]
  },
  {
   "cell_type": "code",
   "execution_count": 19,
   "id": "e2cfe38d",
   "metadata": {},
   "outputs": [
    {
     "name": "stdout",
     "output_type": "stream",
     "text": [
      "chi2  : 6.803326758043492\n",
      "p-value   : 0.03331780370667719\n",
      "Degree of freedom : 2\n"
     ]
    }
   ],
   "source": [
    "print('chi2  :',chi2)\n",
    "print('p-value   :',p)\n",
    "print('Degree of freedom :' ,dof)"
   ]
  },
  {
   "cell_type": "code",
   "execution_count": 20,
   "id": "4d900cf5",
   "metadata": {},
   "outputs": [
    {
     "data": {
      "text/plain": [
       "No     7514\n",
       "Yes     569\n",
       "Name: self_employed, dtype: int64"
      ]
     },
     "execution_count": 20,
     "metadata": {},
     "output_type": "execute_result"
    }
   ],
   "source": [
    "train_data['self_employed'].value_counts()"
   ]
  },
  {
   "cell_type": "code",
   "execution_count": 21,
   "id": "a68040f7",
   "metadata": {},
   "outputs": [
    {
     "data": {
      "image/png": "[encoded data removed]",
      "text/plain": [
       "<Figure size 720x432 with 1 Axes>"
      ]
     },
     "metadata": {},
     "output_type": "display_data"
    }
   ],
   "source": [
    "sns.set_style('whitegrid')\n",
    "sns.set_palette('hls',3)\n",
    "fig,ax=plt.subplots(figsize=(10,6))\n",
    "ax=sns.countplot(x='self_employed',hue='Revenue.Grid',data=train_data)"
   ]
  },
  {
   "cell_type": "code",
   "execution_count": 22,
   "id": "7fe29e78",
   "metadata": {},
   "outputs": [],
   "source": [
    "self_rev=pd.crosstab(index=train_data['self_employed'],columns=train_data['Revenue.Grid'])"
   ]
  },
  {
   "cell_type": "code",
   "execution_count": 23,
   "id": "22795524",
   "metadata": {},
   "outputs": [
    {
     "data": {
      "text/html": [
       "<div>\n",
       "<style scoped>\n",
       "    .dataframe tbody tr th:only-of-type {\n",
       "        vertical-align: middle;\n",
       "    }\n",
       "\n",
       "    .dataframe tbody tr th {\n",
       "        vertical-align: top;\n",
       "    }\n",
       "\n",
       "    .dataframe thead th {\n",
       "        text-align: right;\n",
       "    }\n",
       "</style>\n",
       "<table border=\"1\" class=\"dataframe\">\n",
       "  <thead>\n",
       "    <tr style=\"text-align: right;\">\n",
       "      <th>Revenue.Grid</th>\n",
       "      <th>0</th>\n",
       "      <th>1</th>\n",
       "    </tr>\n",
       "    <tr>\n",
       "      <th>self_employed</th>\n",
       "      <th></th>\n",
       "      <th></th>\n",
       "    </tr>\n",
       "  </thead>\n",
       "  <tbody>\n",
       "    <tr>\n",
       "      <th>No</th>\n",
       "      <td>6722</td>\n",
       "      <td>792</td>\n",
       "    </tr>\n",
       "    <tr>\n",
       "      <th>Yes</th>\n",
       "      <td>500</td>\n",
       "      <td>69</td>\n",
       "    </tr>\n",
       "  </tbody>\n",
       "</table>\n",
       "</div>"
      ],
      "text/plain": [
       "Revenue.Grid      0    1\n",
       "self_employed           \n",
       "No             6722  792\n",
       "Yes             500   69"
      ]
     },
     "execution_count": 23,
     "metadata": {},
     "output_type": "execute_result"
    }
   ],
   "source": [
    "self_rev"
   ]
  },
  {
   "cell_type": "code",
   "execution_count": 24,
   "id": "074bcdb2",
   "metadata": {},
   "outputs": [],
   "source": [
    "(chi2,p,dof,_)=stats.chi2_contingency([self_rev.iloc[0].values,self_rev.iloc[1].values])"
   ]
  },
  {
   "cell_type": "code",
   "execution_count": 25,
   "id": "81bb9c9c",
   "metadata": {},
   "outputs": [
    {
     "name": "stdout",
     "output_type": "stream",
     "text": [
      "chi2  : 1.2366586791866072\n",
      "p-value   : 0.2661159808721003\n",
      "Degree of freedom : 1\n"
     ]
    }
   ],
   "source": [
    "print('chi2  :',chi2)\n",
    "print('p-value   :',p)\n",
    "print('Degree of freedom :' ,dof)"
   ]
  },
  {
   "cell_type": "code",
   "execution_count": 26,
   "id": "e8c0dc61",
   "metadata": {},
   "outputs": [],
   "source": [
    "#Above result shows that self employed is insignificant column."
   ]
  },
  {
   "cell_type": "code",
   "execution_count": 27,
   "id": "a3d29a79",
   "metadata": {},
   "outputs": [
    {
     "data": {
      "text/plain": [
       "Professional         1917\n",
       "Retired              1763\n",
       "Secretarial/Admin    1435\n",
       "Housewife            1023\n",
       "Business Manager      598\n",
       "Manual Worker         452\n",
       "Other                 426\n",
       "Unknown               422\n",
       "Student                47\n",
       "Name: occupation, dtype: int64"
      ]
     },
     "execution_count": 27,
     "metadata": {},
     "output_type": "execute_result"
    }
   ],
   "source": [
    "train_data['occupation'].value_counts()"
   ]
  },
  {
   "cell_type": "code",
   "execution_count": 28,
   "id": "6da06ec2",
   "metadata": {},
   "outputs": [],
   "source": [
    "occ_rev=pd.crosstab(index=train_data['occupation'],columns=train_data['Revenue.Grid'])"
   ]
  },
  {
   "cell_type": "code",
   "execution_count": 29,
   "id": "507ab38b",
   "metadata": {},
   "outputs": [
    {
     "data": {
      "image/png": "[encoded data removed]",
      "text/plain": [
       "<Figure size 1440x432 with 1 Axes>"
      ]
     },
     "metadata": {},
     "output_type": "display_data"
    }
   ],
   "source": [
    "sns.set_style('whitegrid')\n",
    "sns.set_palette('hls',3)\n",
    "fig,ax=plt.subplots(figsize=(20,6))\n",
    "ax=sns.countplot(x='occupation',hue='Revenue.Grid',data=train_data)"
   ]
  },
  {
   "cell_type": "code",
   "execution_count": 30,
   "id": "34601efd",
   "metadata": {},
   "outputs": [
    {
     "data": {
      "text/html": [
       "<div>\n",
       "<style scoped>\n",
       "    .dataframe tbody tr th:only-of-type {\n",
       "        vertical-align: middle;\n",
       "    }\n",
       "\n",
       "    .dataframe tbody tr th {\n",
       "        vertical-align: top;\n",
       "    }\n",
       "\n",
       "    .dataframe thead th {\n",
       "        text-align: right;\n",
       "    }\n",
       "</style>\n",
       "<table border=\"1\" class=\"dataframe\">\n",
       "  <thead>\n",
       "    <tr style=\"text-align: right;\">\n",
       "      <th>Revenue.Grid</th>\n",
       "      <th>0</th>\n",
       "      <th>1</th>\n",
       "    </tr>\n",
       "    <tr>\n",
       "      <th>occupation</th>\n",
       "      <th></th>\n",
       "      <th></th>\n",
       "    </tr>\n",
       "  </thead>\n",
       "  <tbody>\n",
       "    <tr>\n",
       "      <th>Business Manager</th>\n",
       "      <td>525</td>\n",
       "      <td>73</td>\n",
       "    </tr>\n",
       "    <tr>\n",
       "      <th>Housewife</th>\n",
       "      <td>925</td>\n",
       "      <td>98</td>\n",
       "    </tr>\n",
       "    <tr>\n",
       "      <th>Manual Worker</th>\n",
       "      <td>401</td>\n",
       "      <td>51</td>\n",
       "    </tr>\n",
       "    <tr>\n",
       "      <th>Other</th>\n",
       "      <td>382</td>\n",
       "      <td>44</td>\n",
       "    </tr>\n",
       "    <tr>\n",
       "      <th>Professional</th>\n",
       "      <td>1703</td>\n",
       "      <td>214</td>\n",
       "    </tr>\n",
       "    <tr>\n",
       "      <th>Retired</th>\n",
       "      <td>1590</td>\n",
       "      <td>173</td>\n",
       "    </tr>\n",
       "    <tr>\n",
       "      <th>Secretarial/Admin</th>\n",
       "      <td>1283</td>\n",
       "      <td>152</td>\n",
       "    </tr>\n",
       "    <tr>\n",
       "      <th>Student</th>\n",
       "      <td>43</td>\n",
       "      <td>4</td>\n",
       "    </tr>\n",
       "    <tr>\n",
       "      <th>Unknown</th>\n",
       "      <td>370</td>\n",
       "      <td>52</td>\n",
       "    </tr>\n",
       "  </tbody>\n",
       "</table>\n",
       "</div>"
      ],
      "text/plain": [
       "Revenue.Grid          0    1\n",
       "occupation                  \n",
       "Business Manager    525   73\n",
       "Housewife           925   98\n",
       "Manual Worker       401   51\n",
       "Other               382   44\n",
       "Professional       1703  214\n",
       "Retired            1590  173\n",
       "Secretarial/Admin  1283  152\n",
       "Student              43    4\n",
       "Unknown             370   52"
      ]
     },
     "execution_count": 30,
     "metadata": {},
     "output_type": "execute_result"
    }
   ],
   "source": [
    "occ_rev"
   ]
  },
  {
   "cell_type": "code",
   "execution_count": 31,
   "id": "b44c1b0c",
   "metadata": {},
   "outputs": [],
   "source": [
    "(chi2,p,dof,_)=stats.chi2_contingency([occ_rev.iloc[0].values,occ_rev.iloc[1].values,\n",
    "                                      occ_rev.iloc[2].values,occ_rev.iloc[3].values,occ_rev.iloc[4].values,\n",
    "                                       occ_rev.iloc[5].values,occ_rev.iloc[6].values,occ_rev.iloc[7].values,\n",
    "                                       occ_rev.iloc[8].values])"
   ]
  },
  {
   "cell_type": "code",
   "execution_count": 32,
   "id": "879632e0",
   "metadata": {},
   "outputs": [
    {
     "name": "stdout",
     "output_type": "stream",
     "text": [
      "chi2  : 6.291877426737268\n",
      "p-value   : 0.6145732494774798\n",
      "Degree of freedom : 8\n"
     ]
    }
   ],
   "source": [
    "print('chi2  :',chi2)\n",
    "print('p-value   :',p)\n",
    "print('Degree of freedom :' ,dof)"
   ]
  },
  {
   "cell_type": "code",
   "execution_count": 33,
   "id": "7ce39b44",
   "metadata": {},
   "outputs": [
    {
     "data": {
      "text/plain": [
       "Own Home                7519\n",
       "Rent from Council/HA     256\n",
       "Rent Privately           207\n",
       "Live in Parental Hom      84\n",
       "Unclassified              17\n",
       "Name: home_status, dtype: int64"
      ]
     },
     "execution_count": 33,
     "metadata": {},
     "output_type": "execute_result"
    }
   ],
   "source": [
    "train_data['home_status'].value_counts()"
   ]
  },
  {
   "cell_type": "code",
   "execution_count": 34,
   "id": "2dc00714",
   "metadata": {},
   "outputs": [],
   "source": [
    "home_rev=pd.crosstab(index=train_data['home_status'],columns=train_data['Revenue.Grid'])"
   ]
  },
  {
   "cell_type": "code",
   "execution_count": 35,
   "id": "be448765",
   "metadata": {},
   "outputs": [],
   "source": [
    "(chi2,p,dof,_)=stats.chi2_contingency([home_rev.iloc[0].values,home_rev.iloc[1].values,\n",
    "                                      home_rev.iloc[2].values,home_rev.iloc[3].values,\n",
    "                                       home_rev.iloc[4].values])"
   ]
  },
  {
   "cell_type": "code",
   "execution_count": 36,
   "id": "8b556308",
   "metadata": {},
   "outputs": [
    {
     "name": "stdout",
     "output_type": "stream",
     "text": [
      "chi2  : 0.9325053176108642\n",
      "p-value   : 0.9198517856383357\n",
      "Degree of freedom : 4\n"
     ]
    }
   ],
   "source": [
    "print('chi2  :',chi2)\n",
    "print('p-value   :',p)\n",
    "print('Degree of freedom :' ,dof)"
   ]
  },
  {
   "cell_type": "code",
   "execution_count": 37,
   "id": "4e3591ba",
   "metadata": {},
   "outputs": [],
   "source": [
    "#x.head()"
   ]
  },
  {
   "cell_type": "code",
   "execution_count": 38,
   "id": "46824199",
   "metadata": {},
   "outputs": [
    {
     "data": {
      "text/plain": [
       "Index(['REF_NO', 'children', 'year_last_moved',\n",
       "       'Average.Credit.Card.Transaction', 'Balance.Transfer', 'Term.Deposit',\n",
       "       'Life.Insurance', 'Medical.Insurance', 'Average.A.C.Balance',\n",
       "       'Personal.Loan', 'Investment.in.Mutual.Fund',\n",
       "       'Investment.Tax.Saving.Bond', 'Home.Loan', 'Online.Purchase.Amount',\n",
       "       'Revenue.Grid', 'Investment.in.Commudity', 'Investment.in.Equity',\n",
       "       'Investment.in.Derivative', 'Portfolio.Balance', 'Lage', 'Hage', 'age'],\n",
       "      dtype='object')"
      ]
     },
     "execution_count": 38,
     "metadata": {},
     "output_type": "execute_result"
    }
   ],
   "source": [
    "train_data.select_dtypes(exclude=['object']).columns\n"
   ]
  },
  {
   "cell_type": "code",
   "execution_count": 39,
   "id": "25ea20b2",
   "metadata": {},
   "outputs": [],
   "source": [
    "df= train_data[['children','Home.Loan','Personal.Loan','Average.Credit.Card.Transaction','age',\n",
    "                'Revenue.Grid']]"
   ]
  },
  {
   "cell_type": "code",
   "execution_count": 40,
   "id": "b9af036b",
   "metadata": {},
   "outputs": [
    {
     "data": {
      "text/plain": [
       "<AxesSubplot:>"
      ]
     },
     "execution_count": 40,
     "metadata": {},
     "output_type": "execute_result"
    },
    {
     "data": {
      "image/png": "[encoded data removed]",
      "text/plain": [
       "<Figure size 432x288 with 2 Axes>"
      ]
     },
     "metadata": {},
     "output_type": "display_data"
    }
   ],
   "source": [
    "sns.heatmap(df.corr(), annot=True,cmap=\"YlGnBu\")"
   ]
  },
  {
   "cell_type": "code",
   "execution_count": 41,
   "id": "b42b1137",
   "metadata": {},
   "outputs": [
    {
     "data": {
      "text/html": [
       "<div>\n",
       "<style scoped>\n",
       "    .dataframe tbody tr th:only-of-type {\n",
       "        vertical-align: middle;\n",
       "    }\n",
       "\n",
       "    .dataframe tbody tr th {\n",
       "        vertical-align: top;\n",
       "    }\n",
       "\n",
       "    .dataframe thead th {\n",
       "        text-align: right;\n",
       "    }\n",
       "</style>\n",
       "<table border=\"1\" class=\"dataframe\">\n",
       "  <thead>\n",
       "    <tr style=\"text-align: right;\">\n",
       "      <th></th>\n",
       "      <th>children</th>\n",
       "      <th>Home.Loan</th>\n",
       "      <th>Personal.Loan</th>\n",
       "      <th>Average.Credit.Card.Transaction</th>\n",
       "      <th>age</th>\n",
       "      <th>Revenue.Grid</th>\n",
       "    </tr>\n",
       "  </thead>\n",
       "  <tbody>\n",
       "    <tr>\n",
       "      <th>0</th>\n",
       "      <td>1</td>\n",
       "      <td>2.48</td>\n",
       "      <td>21.47</td>\n",
       "      <td>0.00</td>\n",
       "      <td>47.5</td>\n",
       "      <td>0</td>\n",
       "    </tr>\n",
       "    <tr>\n",
       "      <th>1</th>\n",
       "      <td>1</td>\n",
       "      <td>3.99</td>\n",
       "      <td>14.98</td>\n",
       "      <td>0.00</td>\n",
       "      <td>63.0</td>\n",
       "      <td>0</td>\n",
       "    </tr>\n",
       "    <tr>\n",
       "      <th>2</th>\n",
       "      <td>3</td>\n",
       "      <td>0.00</td>\n",
       "      <td>0.00</td>\n",
       "      <td>119.98</td>\n",
       "      <td>33.0</td>\n",
       "      <td>0</td>\n",
       "    </tr>\n",
       "    <tr>\n",
       "      <th>3</th>\n",
       "      <td>0</td>\n",
       "      <td>0.00</td>\n",
       "      <td>0.00</td>\n",
       "      <td>0.00</td>\n",
       "      <td>57.5</td>\n",
       "      <td>0</td>\n",
       "    </tr>\n",
       "    <tr>\n",
       "      <th>4</th>\n",
       "      <td>2</td>\n",
       "      <td>0.00</td>\n",
       "      <td>0.00</td>\n",
       "      <td>0.00</td>\n",
       "      <td>53.0</td>\n",
       "      <td>0</td>\n",
       "    </tr>\n",
       "  </tbody>\n",
       "</table>\n",
       "</div>"
      ],
      "text/plain": [
       "   children  Home.Loan  Personal.Loan  Average.Credit.Card.Transaction   age  \\\n",
       "0         1       2.48          21.47                             0.00  47.5   \n",
       "1         1       3.99          14.98                             0.00  63.0   \n",
       "2         3       0.00           0.00                           119.98  33.0   \n",
       "3         0       0.00           0.00                             0.00  57.5   \n",
       "4         2       0.00           0.00                             0.00  53.0   \n",
       "\n",
       "   Revenue.Grid  \n",
       "0             0  \n",
       "1             0  \n",
       "2             0  \n",
       "3             0  \n",
       "4             0  "
      ]
     },
     "execution_count": 41,
     "metadata": {},
     "output_type": "execute_result"
    }
   ],
   "source": [
    "df.head()"
   ]
  },
  {
   "cell_type": "code",
   "execution_count": 42,
   "id": "7a1a38e1",
   "metadata": {},
   "outputs": [],
   "source": [
    "#sns.pairplot(df,diag_kind='kde',hue='Revenue.Grid')"
   ]
  },
  {
   "cell_type": "code",
   "execution_count": 43,
   "id": "c86a5a6d",
   "metadata": {},
   "outputs": [
    {
     "data": {
      "text/html": [
       "<div>\n",
       "<style scoped>\n",
       "    .dataframe tbody tr th:only-of-type {\n",
       "        vertical-align: middle;\n",
       "    }\n",
       "\n",
       "    .dataframe tbody tr th {\n",
       "        vertical-align: top;\n",
       "    }\n",
       "\n",
       "    .dataframe thead th {\n",
       "        text-align: right;\n",
       "    }\n",
       "</style>\n",
       "<table border=\"1\" class=\"dataframe\">\n",
       "  <thead>\n",
       "    <tr style=\"text-align: right;\">\n",
       "      <th></th>\n",
       "      <th>count</th>\n",
       "      <th>mean</th>\n",
       "      <th>std</th>\n",
       "      <th>min</th>\n",
       "      <th>25%</th>\n",
       "      <th>50%</th>\n",
       "      <th>75%</th>\n",
       "      <th>max</th>\n",
       "    </tr>\n",
       "  </thead>\n",
       "  <tbody>\n",
       "    <tr>\n",
       "      <th>children</th>\n",
       "      <td>8083.0</td>\n",
       "      <td>0.645058</td>\n",
       "      <td>0.916636</td>\n",
       "      <td>0.0</td>\n",
       "      <td>0.0</td>\n",
       "      <td>0.0</td>\n",
       "      <td>1.000</td>\n",
       "      <td>4.00</td>\n",
       "    </tr>\n",
       "    <tr>\n",
       "      <th>Home.Loan</th>\n",
       "      <td>8083.0</td>\n",
       "      <td>4.509077</td>\n",
       "      <td>10.034963</td>\n",
       "      <td>0.0</td>\n",
       "      <td>0.0</td>\n",
       "      <td>0.0</td>\n",
       "      <td>4.495</td>\n",
       "      <td>162.35</td>\n",
       "    </tr>\n",
       "    <tr>\n",
       "      <th>Personal.Loan</th>\n",
       "      <td>8083.0</td>\n",
       "      <td>26.058029</td>\n",
       "      <td>86.843065</td>\n",
       "      <td>0.0</td>\n",
       "      <td>0.0</td>\n",
       "      <td>0.0</td>\n",
       "      <td>21.990</td>\n",
       "      <td>4905.93</td>\n",
       "    </tr>\n",
       "    <tr>\n",
       "      <th>Average.Credit.Card.Transaction</th>\n",
       "      <td>8083.0</td>\n",
       "      <td>23.786264</td>\n",
       "      <td>51.559073</td>\n",
       "      <td>0.0</td>\n",
       "      <td>0.0</td>\n",
       "      <td>0.0</td>\n",
       "      <td>24.375</td>\n",
       "      <td>662.26</td>\n",
       "    </tr>\n",
       "    <tr>\n",
       "      <th>age</th>\n",
       "      <td>8083.0</td>\n",
       "      <td>46.647656</td>\n",
       "      <td>13.728233</td>\n",
       "      <td>19.5</td>\n",
       "      <td>38.0</td>\n",
       "      <td>47.5</td>\n",
       "      <td>57.500</td>\n",
       "      <td>75.50</td>\n",
       "    </tr>\n",
       "    <tr>\n",
       "      <th>Revenue.Grid</th>\n",
       "      <td>8083.0</td>\n",
       "      <td>0.106520</td>\n",
       "      <td>0.308521</td>\n",
       "      <td>0.0</td>\n",
       "      <td>0.0</td>\n",
       "      <td>0.0</td>\n",
       "      <td>0.000</td>\n",
       "      <td>1.00</td>\n",
       "    </tr>\n",
       "  </tbody>\n",
       "</table>\n",
       "</div>"
      ],
      "text/plain": [
       "                                  count       mean        std   min   25%  \\\n",
       "children                         8083.0   0.645058   0.916636   0.0   0.0   \n",
       "Home.Loan                        8083.0   4.509077  10.034963   0.0   0.0   \n",
       "Personal.Loan                    8083.0  26.058029  86.843065   0.0   0.0   \n",
       "Average.Credit.Card.Transaction  8083.0  23.786264  51.559073   0.0   0.0   \n",
       "age                              8083.0  46.647656  13.728233  19.5  38.0   \n",
       "Revenue.Grid                     8083.0   0.106520   0.308521   0.0   0.0   \n",
       "\n",
       "                                  50%     75%      max  \n",
       "children                          0.0   1.000     4.00  \n",
       "Home.Loan                         0.0   4.495   162.35  \n",
       "Personal.Loan                     0.0  21.990  4905.93  \n",
       "Average.Credit.Card.Transaction   0.0  24.375   662.26  \n",
       "age                              47.5  57.500    75.50  \n",
       "Revenue.Grid                      0.0   0.000     1.00  "
      ]
     },
     "execution_count": 43,
     "metadata": {},
     "output_type": "execute_result"
    }
   ],
   "source": [
    "df.describe().T"
   ]
  },
  {
   "cell_type": "code",
   "execution_count": 44,
   "id": "78067d5f",
   "metadata": {},
   "outputs": [
    {
     "data": {
      "text/plain": [
       "47.5    1091\n",
       "38.0     911\n",
       "43.0     889\n",
       "53.0     856\n",
       "33.0     841\n",
       "57.5     834\n",
       "28.0     750\n",
       "63.0     702\n",
       "67.5     480\n",
       "23.5     359\n",
       "75.5     322\n",
       "19.5      48\n",
       "Name: age, dtype: int64"
      ]
     },
     "execution_count": 44,
     "metadata": {},
     "output_type": "execute_result"
    }
   ],
   "source": [
    "df.age.value_counts()"
   ]
  },
  {
   "cell_type": "code",
   "execution_count": 45,
   "id": "a988c959",
   "metadata": {},
   "outputs": [
    {
     "data": {
      "text/plain": [
       "<AxesSubplot:xlabel='Personal.Loan', ylabel='Density'>"
      ]
     },
     "execution_count": 45,
     "metadata": {},
     "output_type": "execute_result"
    },
    {
     "data": {
      "image/png": "[encoded data removed]",
      "text/plain": [
       "<Figure size 432x288 with 1 Axes>"
      ]
     },
     "metadata": {},
     "output_type": "display_data"
    }
   ],
   "source": [
    "sns.kdeplot(df['Personal.Loan'])"
   ]
  },
  {
   "cell_type": "code",
   "execution_count": 46,
   "id": "3b3b465b",
   "metadata": {},
   "outputs": [
    {
     "data": {
      "text/plain": [
       "<AxesSubplot:xlabel='Personal.Loan'>"
      ]
     },
     "execution_count": 46,
     "metadata": {},
     "output_type": "execute_result"
    },
    {
     "data": {
      "image/png": "[encoded data removed]",
      "text/plain": [
       "<Figure size 432x288 with 1 Axes>"
      ]
     },
     "metadata": {},
     "output_type": "display_data"
    }
   ],
   "source": [
    "sns.boxplot(x=df['Personal.Loan'])"
   ]
  },
  {
   "cell_type": "code",
   "execution_count": 47,
   "id": "df7ca991",
   "metadata": {},
   "outputs": [],
   "source": [
    "x=train_data.drop(['Revenue.Grid'],axis=1)"
   ]
  },
  {
   "cell_type": "code",
   "execution_count": 48,
   "id": "43ef8393",
   "metadata": {},
   "outputs": [],
   "source": [
    "y=train_data['Revenue.Grid']"
   ]
  },
  {
   "cell_type": "code",
   "execution_count": 49,
   "id": "4d16896c",
   "metadata": {},
   "outputs": [],
   "source": [
    "from sklearn.preprocessing import StandardScaler\n",
    "scaler= StandardScaler()"
   ]
  },
  {
   "cell_type": "code",
   "execution_count": 50,
   "id": "9be690fd",
   "metadata": {},
   "outputs": [
    {
     "data": {
      "text/plain": [
       "Index(['status', 'occupation', 'occupation_partner', 'home_status',\n",
       "       'family_income', 'self_employed', 'self_employed_partner', 'TVarea',\n",
       "       'post_code', 'post_area', 'gender', 'region'],\n",
       "      dtype='object')"
      ]
     },
     "execution_count": 50,
     "metadata": {},
     "output_type": "execute_result"
    }
   ],
   "source": [
    "x.select_dtypes(['object']).columns"
   ]
  },
  {
   "cell_type": "code",
   "execution_count": 51,
   "id": "d17a8a09",
   "metadata": {},
   "outputs": [],
   "source": [
    "x.drop(['REF_NO','post_code','post_area','home_status','occupation'],axis=1,inplace=True)"
   ]
  },
  {
   "cell_type": "code",
   "execution_count": 52,
   "id": "386d96eb",
   "metadata": {},
   "outputs": [
    {
     "data": {
      "text/plain": [
       "Index(['status', 'occupation_partner', 'family_income', 'self_employed',\n",
       "       'self_employed_partner', 'TVarea', 'gender', 'region'],\n",
       "      dtype='object')"
      ]
     },
     "execution_count": 52,
     "metadata": {},
     "output_type": "execute_result"
    }
   ],
   "source": [
    "cat_cols= x.select_dtypes(['object']).columns\n",
    "cat_cols"
   ]
  },
  {
   "cell_type": "code",
   "execution_count": 53,
   "id": "7141c32b",
   "metadata": {},
   "outputs": [
    {
     "data": {
      "text/plain": [
       "(8083, 28)"
      ]
     },
     "execution_count": 53,
     "metadata": {},
     "output_type": "execute_result"
    }
   ],
   "source": [
    "x.shape"
   ]
  },
  {
   "cell_type": "code",
   "execution_count": 54,
   "id": "39070dd7",
   "metadata": {},
   "outputs": [
    {
     "name": "stdout",
     "output_type": "stream",
     "text": [
      "5\n",
      "9\n",
      "13\n",
      "13\n"
     ]
    }
   ],
   "source": [
    "print(x.status.nunique())\n",
    "print(x.occupation_partner.nunique())\n",
    "print(x.family_income.nunique())\n",
    "print(x.region.nunique())"
   ]
  },
  {
   "cell_type": "code",
   "execution_count": 55,
   "id": "0fd76ebb",
   "metadata": {},
   "outputs": [
    {
     "name": "stdout",
     "output_type": "stream",
     "text": [
      "status\n",
      "occupation_partner\n",
      "family_income\n",
      "self_employed\n",
      "self_employed_partner\n",
      "TVarea\n",
      "gender\n",
      "region\n"
     ]
    }
   ],
   "source": [
    "for col in cat_cols:\n",
    "    dummy=pd.get_dummies(x[col],drop_first=True, prefix=col)\n",
    "    x=pd.concat([x,dummy],axis=1)\n",
    "    del x[col]\n",
    "    print(col)\n",
    "#del dummy"
   ]
  },
  {
   "cell_type": "code",
   "execution_count": 56,
   "id": "09bb43e7",
   "metadata": {},
   "outputs": [
    {
     "data": {
      "text/plain": [
       "(8083, 73)"
      ]
     },
     "execution_count": 56,
     "metadata": {},
     "output_type": "execute_result"
    }
   ],
   "source": [
    "x.shape"
   ]
  },
  {
   "cell_type": "code",
   "execution_count": 57,
   "id": "45d9da85",
   "metadata": {},
   "outputs": [],
   "source": [
    "del dummy"
   ]
  },
  {
   "cell_type": "code",
   "execution_count": 58,
   "id": "80227a40",
   "metadata": {},
   "outputs": [],
   "source": [
    "x.drop(['Lage','Hage'],axis=1,inplace=True)"
   ]
  },
  {
   "cell_type": "code",
   "execution_count": 59,
   "id": "2d892f44",
   "metadata": {},
   "outputs": [
    {
     "data": {
      "text/plain": [
       "children                           0\n",
       "year_last_moved                    0\n",
       "Average.Credit.Card.Transaction    0\n",
       "Balance.Transfer                   0\n",
       "Term.Deposit                       0\n",
       "                                  ..\n",
       "region_South East                  0\n",
       "region_South West                  0\n",
       "region_Unknown                     0\n",
       "region_Wales                       0\n",
       "region_West Midlands               0\n",
       "Length: 71, dtype: int64"
      ]
     },
     "execution_count": 59,
     "metadata": {},
     "output_type": "execute_result"
    }
   ],
   "source": [
    "x.isnull().sum()"
   ]
  },
  {
   "cell_type": "code",
   "execution_count": 60,
   "id": "58c26744",
   "metadata": {},
   "outputs": [
    {
     "data": {
      "text/plain": [
       "VarianceThreshold(threshold=0.001)"
      ]
     },
     "execution_count": 60,
     "metadata": {},
     "output_type": "execute_result"
    }
   ],
   "source": [
    "#Feature Selection\n",
    "from sklearn.feature_selection import VarianceThreshold\n",
    "var_thres= VarianceThreshold(threshold=0.001)\n",
    "var_thres.fit(x)"
   ]
  },
  {
   "cell_type": "code",
   "execution_count": 61,
   "id": "33756937",
   "metadata": {},
   "outputs": [
    {
     "data": {
      "text/plain": [
       "71"
      ]
     },
     "execution_count": 61,
     "metadata": {},
     "output_type": "execute_result"
    }
   ],
   "source": [
    "sum(var_thres.get_support())"
   ]
  },
  {
   "cell_type": "code",
   "execution_count": 62,
   "id": "012d18cc",
   "metadata": {},
   "outputs": [
    {
     "data": {
      "text/plain": [
       "[]"
      ]
     },
     "execution_count": 62,
     "metadata": {},
     "output_type": "execute_result"
    }
   ],
   "source": [
    "const_col=[column for column in x.columns if column not in x.columns[var_thres.get_support()]]\n",
    "const_col"
   ]
  },
  {
   "cell_type": "code",
   "execution_count": 63,
   "id": "cc91666a",
   "metadata": {},
   "outputs": [],
   "source": [
    "from sklearn.feature_selection import mutual_info_classif\n",
    "mutual_inf= mutual_info_classif(x,y)\n",
    "#mutual_inf"
   ]
  },
  {
   "cell_type": "code",
   "execution_count": 64,
   "id": "1abe0678",
   "metadata": {},
   "outputs": [
    {
     "data": {
      "text/plain": [
       "Online.Purchase.Amount             0.096718\n",
       "Investment.in.Equity               0.042307\n",
       "Investment.Tax.Saving.Bond         0.037396\n",
       "Investment.in.Commudity            0.030227\n",
       "Life.Insurance                     0.028472\n",
       "                                     ...   \n",
       "family_income_<25,000, >=22,500    0.000000\n",
       "family_income_<22,500, >=20,000    0.000000\n",
       "family_income_<17,500, >=15,000    0.000000\n",
       "family_income_<12,500, >=10,000    0.000000\n",
       "occupation_partner_Other           0.000000\n",
       "Length: 71, dtype: float64"
      ]
     },
     "execution_count": 64,
     "metadata": {},
     "output_type": "execute_result"
    }
   ],
   "source": [
    "mutual_inf= pd.Series(mutual_inf)\n",
    "mutual_inf.index=x.columns\n",
    "mutual_inf.sort_values(ascending=False)"
   ]
  },
  {
   "cell_type": "code",
   "execution_count": 65,
   "id": "a8205b3b",
   "metadata": {},
   "outputs": [
    {
     "name": "stdout",
     "output_type": "stream",
     "text": [
      "age\n",
      "status_Single/Never Married\n",
      "occupation_partner_Housewife\n",
      "occupation_partner_Other\n",
      "occupation_partner_Secretarial/Admin\n",
      "family_income_< 8,000, >= 4,000\n",
      "family_income_<12,500, >=10,000\n",
      "family_income_<17,500, >=15,000\n",
      "family_income_<22,500, >=20,000\n",
      "family_income_<25,000, >=22,500\n",
      "family_income_<27,500, >=25,000\n",
      "family_income_>=35,000\n",
      "family_income_Unknown\n",
      "self_employed_Yes\n",
      "self_employed_partner_Yes\n",
      "TVarea_Border\n",
      "TVarea_Grampian\n",
      "TVarea_Scottish TV\n",
      "TVarea_Tyne Tees\n",
      "TVarea_Ulster\n",
      "TVarea_Unknown\n",
      "gender_Male\n",
      "gender_Unknown\n",
      "region_East Anglia\n",
      "region_North\n",
      "region_North West\n",
      "region_Northern Ireland\n",
      "region_Scotland\n",
      "region_South East\n",
      "region_Unknown\n"
     ]
    }
   ],
   "source": [
    "red_col=[]\n",
    "for i in mutual_inf.index:\n",
    "    if mutual_inf.loc[i]==0:\n",
    "        print(i)\n",
    "        red_col.append(i)\n",
    "        #print(red_col)\n",
    "        #print(len(red_col))\n",
    "    "
   ]
  },
  {
   "cell_type": "code",
   "execution_count": 66,
   "id": "b5b2d386",
   "metadata": {},
   "outputs": [
    {
     "data": {
      "text/plain": [
       "['age',\n",
       " 'status_Single/Never Married',\n",
       " 'occupation_partner_Housewife',\n",
       " 'occupation_partner_Other',\n",
       " 'occupation_partner_Secretarial/Admin']"
      ]
     },
     "execution_count": 66,
     "metadata": {},
     "output_type": "execute_result"
    }
   ],
   "source": [
    "red_col[:5]"
   ]
  },
  {
   "cell_type": "code",
   "execution_count": 67,
   "id": "ebd586d0",
   "metadata": {},
   "outputs": [],
   "source": [
    "from sklearn.model_selection import train_test_split\n",
    "X_train, X_test, y_train, y_test = train_test_split(x, y, test_size=0.20, random_state=42)\n",
    "     "
   ]
  },
  {
   "cell_type": "code",
   "execution_count": 68,
   "id": "6c105485",
   "metadata": {},
   "outputs": [
    {
     "data": {
      "text/plain": [
       "(6466, 71)"
      ]
     },
     "execution_count": 68,
     "metadata": {},
     "output_type": "execute_result"
    }
   ],
   "source": [
    "X_train.shape"
   ]
  },
  {
   "cell_type": "code",
   "execution_count": 69,
   "id": "e962478d",
   "metadata": {},
   "outputs": [],
   "source": [
    "X_train_s= scaler.fit_transform(X_train)\n",
    "X_test_s= scaler.transform(X_test)"
   ]
  },
  {
   "cell_type": "code",
   "execution_count": 70,
   "id": "d90f9504",
   "metadata": {},
   "outputs": [],
   "source": [
    "X_train_s=pd.DataFrame(X_train_s,columns=X_train.columns)\n",
    "X_test_s= pd.DataFrame(X_test_s,columns=X_test.columns)"
   ]
  },
  {
   "cell_type": "code",
   "execution_count": 71,
   "id": "99638066",
   "metadata": {},
   "outputs": [
    {
     "data": {
      "text/html": [
       "<div>\n",
       "<style scoped>\n",
       "    .dataframe tbody tr th:only-of-type {\n",
       "        vertical-align: middle;\n",
       "    }\n",
       "\n",
       "    .dataframe tbody tr th {\n",
       "        vertical-align: top;\n",
       "    }\n",
       "\n",
       "    .dataframe thead th {\n",
       "        text-align: right;\n",
       "    }\n",
       "</style>\n",
       "<table border=\"1\" class=\"dataframe\">\n",
       "  <thead>\n",
       "    <tr style=\"text-align: right;\">\n",
       "      <th></th>\n",
       "      <th>children</th>\n",
       "      <th>year_last_moved</th>\n",
       "      <th>Average.Credit.Card.Transaction</th>\n",
       "      <th>Balance.Transfer</th>\n",
       "      <th>Term.Deposit</th>\n",
       "      <th>Life.Insurance</th>\n",
       "      <th>Medical.Insurance</th>\n",
       "      <th>Average.A.C.Balance</th>\n",
       "      <th>Personal.Loan</th>\n",
       "      <th>Investment.in.Mutual.Fund</th>\n",
       "      <th>...</th>\n",
       "      <th>region_Isle of Man</th>\n",
       "      <th>region_North</th>\n",
       "      <th>region_North West</th>\n",
       "      <th>region_Northern Ireland</th>\n",
       "      <th>region_Scotland</th>\n",
       "      <th>region_South East</th>\n",
       "      <th>region_South West</th>\n",
       "      <th>region_Unknown</th>\n",
       "      <th>region_Wales</th>\n",
       "      <th>region_West Midlands</th>\n",
       "    </tr>\n",
       "  </thead>\n",
       "  <tbody>\n",
       "    <tr>\n",
       "      <th>0</th>\n",
       "      <td>-0.704549</td>\n",
       "      <td>0.066581</td>\n",
       "      <td>0.115072</td>\n",
       "      <td>-0.291554</td>\n",
       "      <td>-0.508870</td>\n",
       "      <td>0.158747</td>\n",
       "      <td>-0.393561</td>\n",
       "      <td>2.524089</td>\n",
       "      <td>0.286972</td>\n",
       "      <td>0.367175</td>\n",
       "      <td>...</td>\n",
       "      <td>-0.041281</td>\n",
       "      <td>-0.245303</td>\n",
       "      <td>2.112143</td>\n",
       "      <td>-0.121458</td>\n",
       "      <td>-0.291062</td>\n",
       "      <td>-0.518016</td>\n",
       "      <td>-0.325080</td>\n",
       "      <td>-0.345349</td>\n",
       "      <td>-0.24174</td>\n",
       "      <td>-0.299114</td>\n",
       "    </tr>\n",
       "    <tr>\n",
       "      <th>1</th>\n",
       "      <td>-0.704549</td>\n",
       "      <td>0.089911</td>\n",
       "      <td>-0.461920</td>\n",
       "      <td>-0.571650</td>\n",
       "      <td>-0.508870</td>\n",
       "      <td>0.143444</td>\n",
       "      <td>-0.590143</td>\n",
       "      <td>-0.235402</td>\n",
       "      <td>-0.287974</td>\n",
       "      <td>-0.629621</td>\n",
       "      <td>...</td>\n",
       "      <td>-0.041281</td>\n",
       "      <td>-0.245303</td>\n",
       "      <td>-0.473453</td>\n",
       "      <td>-0.121458</td>\n",
       "      <td>-0.291062</td>\n",
       "      <td>-0.518016</td>\n",
       "      <td>3.076164</td>\n",
       "      <td>-0.345349</td>\n",
       "      <td>-0.24174</td>\n",
       "      <td>-0.299114</td>\n",
       "    </tr>\n",
       "    <tr>\n",
       "      <th>2</th>\n",
       "      <td>0.392396</td>\n",
       "      <td>0.159900</td>\n",
       "      <td>-0.461920</td>\n",
       "      <td>-0.571650</td>\n",
       "      <td>-0.508870</td>\n",
       "      <td>-0.484484</td>\n",
       "      <td>-0.590143</td>\n",
       "      <td>-0.442681</td>\n",
       "      <td>-0.287974</td>\n",
       "      <td>-0.361814</td>\n",
       "      <td>...</td>\n",
       "      <td>-0.041281</td>\n",
       "      <td>-0.245303</td>\n",
       "      <td>-0.473453</td>\n",
       "      <td>-0.121458</td>\n",
       "      <td>-0.291062</td>\n",
       "      <td>-0.518016</td>\n",
       "      <td>-0.325080</td>\n",
       "      <td>2.895620</td>\n",
       "      <td>-0.24174</td>\n",
       "      <td>-0.299114</td>\n",
       "    </tr>\n",
       "    <tr>\n",
       "      <th>3</th>\n",
       "      <td>1.489342</td>\n",
       "      <td>0.019921</td>\n",
       "      <td>-0.461920</td>\n",
       "      <td>-0.206112</td>\n",
       "      <td>-0.418792</td>\n",
       "      <td>-0.454081</td>\n",
       "      <td>-0.590143</td>\n",
       "      <td>-0.388076</td>\n",
       "      <td>-0.287974</td>\n",
       "      <td>-0.273091</td>\n",
       "      <td>...</td>\n",
       "      <td>-0.041281</td>\n",
       "      <td>-0.245303</td>\n",
       "      <td>-0.473453</td>\n",
       "      <td>-0.121458</td>\n",
       "      <td>-0.291062</td>\n",
       "      <td>1.930442</td>\n",
       "      <td>-0.325080</td>\n",
       "      <td>-0.345349</td>\n",
       "      <td>-0.24174</td>\n",
       "      <td>-0.299114</td>\n",
       "    </tr>\n",
       "    <tr>\n",
       "      <th>4</th>\n",
       "      <td>-0.704549</td>\n",
       "      <td>-0.026738</td>\n",
       "      <td>-0.461920</td>\n",
       "      <td>-0.571650</td>\n",
       "      <td>-0.148017</td>\n",
       "      <td>0.756476</td>\n",
       "      <td>-0.590143</td>\n",
       "      <td>-0.704564</td>\n",
       "      <td>-0.287974</td>\n",
       "      <td>-0.413916</td>\n",
       "      <td>...</td>\n",
       "      <td>-0.041281</td>\n",
       "      <td>4.076583</td>\n",
       "      <td>-0.473453</td>\n",
       "      <td>-0.121458</td>\n",
       "      <td>-0.291062</td>\n",
       "      <td>-0.518016</td>\n",
       "      <td>-0.325080</td>\n",
       "      <td>-0.345349</td>\n",
       "      <td>-0.24174</td>\n",
       "      <td>-0.299114</td>\n",
       "    </tr>\n",
       "  </tbody>\n",
       "</table>\n",
       "<p>5 rows × 71 columns</p>\n",
       "</div>"
      ],
      "text/plain": [
       "   children  year_last_moved  Average.Credit.Card.Transaction  \\\n",
       "0 -0.704549         0.066581                         0.115072   \n",
       "1 -0.704549         0.089911                        -0.461920   \n",
       "2  0.392396         0.159900                        -0.461920   \n",
       "3  1.489342         0.019921                        -0.461920   \n",
       "4 -0.704549        -0.026738                        -0.461920   \n",
       "\n",
       "   Balance.Transfer  Term.Deposit  Life.Insurance  Medical.Insurance  \\\n",
       "0         -0.291554     -0.508870        0.158747          -0.393561   \n",
       "1         -0.571650     -0.508870        0.143444          -0.590143   \n",
       "2         -0.571650     -0.508870       -0.484484          -0.590143   \n",
       "3         -0.206112     -0.418792       -0.454081          -0.590143   \n",
       "4         -0.571650     -0.148017        0.756476          -0.590143   \n",
       "\n",
       "   Average.A.C.Balance  Personal.Loan  Investment.in.Mutual.Fund  ...  \\\n",
       "0             2.524089       0.286972                   0.367175  ...   \n",
       "1            -0.235402      -0.287974                  -0.629621  ...   \n",
       "2            -0.442681      -0.287974                  -0.361814  ...   \n",
       "3            -0.388076      -0.287974                  -0.273091  ...   \n",
       "4            -0.704564      -0.287974                  -0.413916  ...   \n",
       "\n",
       "   region_Isle of Man  region_North  region_North West  \\\n",
       "0           -0.041281     -0.245303           2.112143   \n",
       "1           -0.041281     -0.245303          -0.473453   \n",
       "2           -0.041281     -0.245303          -0.473453   \n",
       "3           -0.041281     -0.245303          -0.473453   \n",
       "4           -0.041281      4.076583          -0.473453   \n",
       "\n",
       "   region_Northern Ireland  region_Scotland  region_South East  \\\n",
       "0                -0.121458        -0.291062          -0.518016   \n",
       "1                -0.121458        -0.291062          -0.518016   \n",
       "2                -0.121458        -0.291062          -0.518016   \n",
       "3                -0.121458        -0.291062           1.930442   \n",
       "4                -0.121458        -0.291062          -0.518016   \n",
       "\n",
       "   region_South West  region_Unknown  region_Wales  region_West Midlands  \n",
       "0          -0.325080       -0.345349      -0.24174             -0.299114  \n",
       "1           3.076164       -0.345349      -0.24174             -0.299114  \n",
       "2          -0.325080        2.895620      -0.24174             -0.299114  \n",
       "3          -0.325080       -0.345349      -0.24174             -0.299114  \n",
       "4          -0.325080       -0.345349      -0.24174             -0.299114  \n",
       "\n",
       "[5 rows x 71 columns]"
      ]
     },
     "execution_count": 71,
     "metadata": {},
     "output_type": "execute_result"
    }
   ],
   "source": [
    "X_train_s.head()"
   ]
  },
  {
   "cell_type": "code",
   "execution_count": 72,
   "id": "7f8ef84c",
   "metadata": {},
   "outputs": [
    {
     "data": {
      "text/html": [
       "<div>\n",
       "<style scoped>\n",
       "    .dataframe tbody tr th:only-of-type {\n",
       "        vertical-align: middle;\n",
       "    }\n",
       "\n",
       "    .dataframe tbody tr th {\n",
       "        vertical-align: top;\n",
       "    }\n",
       "\n",
       "    .dataframe thead th {\n",
       "        text-align: right;\n",
       "    }\n",
       "</style>\n",
       "<table border=\"1\" class=\"dataframe\">\n",
       "  <thead>\n",
       "    <tr style=\"text-align: right;\">\n",
       "      <th></th>\n",
       "      <th>count</th>\n",
       "      <th>mean</th>\n",
       "      <th>std</th>\n",
       "      <th>min</th>\n",
       "      <th>25%</th>\n",
       "      <th>50%</th>\n",
       "      <th>75%</th>\n",
       "      <th>max</th>\n",
       "    </tr>\n",
       "  </thead>\n",
       "  <tbody>\n",
       "    <tr>\n",
       "      <th>children</th>\n",
       "      <td>6466.0</td>\n",
       "      <td>1.822373e-15</td>\n",
       "      <td>1.000077</td>\n",
       "      <td>-0.704549</td>\n",
       "      <td>-0.704549</td>\n",
       "      <td>-0.704549</td>\n",
       "      <td>0.392396</td>\n",
       "      <td>3.683234</td>\n",
       "    </tr>\n",
       "    <tr>\n",
       "      <th>year_last_moved</th>\n",
       "      <td>6466.0</td>\n",
       "      <td>7.515581e-16</td>\n",
       "      <td>1.000077</td>\n",
       "      <td>-15.369932</td>\n",
       "      <td>0.012145</td>\n",
       "      <td>0.089911</td>\n",
       "      <td>0.136570</td>\n",
       "      <td>0.175453</td>\n",
       "    </tr>\n",
       "    <tr>\n",
       "      <th>Average.Credit.Card.Transaction</th>\n",
       "      <td>6466.0</td>\n",
       "      <td>-2.087807e-16</td>\n",
       "      <td>1.000077</td>\n",
       "      <td>-0.461920</td>\n",
       "      <td>-0.461920</td>\n",
       "      <td>-0.461920</td>\n",
       "      <td>0.007583</td>\n",
       "      <td>12.504434</td>\n",
       "    </tr>\n",
       "    <tr>\n",
       "      <th>Balance.Transfer</th>\n",
       "      <td>6466.0</td>\n",
       "      <td>-3.815211e-17</td>\n",
       "      <td>1.000077</td>\n",
       "      <td>-0.571650</td>\n",
       "      <td>-0.571650</td>\n",
       "      <td>-0.358470</td>\n",
       "      <td>0.255778</td>\n",
       "      <td>35.406411</td>\n",
       "    </tr>\n",
       "    <tr>\n",
       "      <th>Term.Deposit</th>\n",
       "      <td>6466.0</td>\n",
       "      <td>-5.125982e-16</td>\n",
       "      <td>1.000077</td>\n",
       "      <td>-0.508870</td>\n",
       "      <td>-0.508870</td>\n",
       "      <td>-0.508870</td>\n",
       "      <td>0.122759</td>\n",
       "      <td>13.658474</td>\n",
       "    </tr>\n",
       "    <tr>\n",
       "      <th>...</th>\n",
       "      <td>...</td>\n",
       "      <td>...</td>\n",
       "      <td>...</td>\n",
       "      <td>...</td>\n",
       "      <td>...</td>\n",
       "      <td>...</td>\n",
       "      <td>...</td>\n",
       "      <td>...</td>\n",
       "    </tr>\n",
       "    <tr>\n",
       "      <th>region_South East</th>\n",
       "      <td>6466.0</td>\n",
       "      <td>8.128357e-17</td>\n",
       "      <td>1.000077</td>\n",
       "      <td>-0.518016</td>\n",
       "      <td>-0.518016</td>\n",
       "      <td>-0.518016</td>\n",
       "      <td>-0.518016</td>\n",
       "      <td>1.930442</td>\n",
       "    </tr>\n",
       "    <tr>\n",
       "      <th>region_South West</th>\n",
       "      <td>6466.0</td>\n",
       "      <td>1.366745e-16</td>\n",
       "      <td>1.000077</td>\n",
       "      <td>-0.325080</td>\n",
       "      <td>-0.325080</td>\n",
       "      <td>-0.325080</td>\n",
       "      <td>-0.325080</td>\n",
       "      <td>3.076164</td>\n",
       "    </tr>\n",
       "    <tr>\n",
       "      <th>region_Unknown</th>\n",
       "      <td>6466.0</td>\n",
       "      <td>4.200338e-16</td>\n",
       "      <td>1.000077</td>\n",
       "      <td>-0.345349</td>\n",
       "      <td>-0.345349</td>\n",
       "      <td>-0.345349</td>\n",
       "      <td>-0.345349</td>\n",
       "      <td>2.895620</td>\n",
       "    </tr>\n",
       "    <tr>\n",
       "      <th>region_Wales</th>\n",
       "      <td>6466.0</td>\n",
       "      <td>-4.456517e-17</td>\n",
       "      <td>1.000077</td>\n",
       "      <td>-0.241740</td>\n",
       "      <td>-0.241740</td>\n",
       "      <td>-0.241740</td>\n",
       "      <td>-0.241740</td>\n",
       "      <td>4.136671</td>\n",
       "    </tr>\n",
       "    <tr>\n",
       "      <th>region_West Midlands</th>\n",
       "      <td>6466.0</td>\n",
       "      <td>2.184045e-17</td>\n",
       "      <td>1.000077</td>\n",
       "      <td>-0.299114</td>\n",
       "      <td>-0.299114</td>\n",
       "      <td>-0.299114</td>\n",
       "      <td>-0.299114</td>\n",
       "      <td>3.343206</td>\n",
       "    </tr>\n",
       "  </tbody>\n",
       "</table>\n",
       "<p>71 rows × 8 columns</p>\n",
       "</div>"
      ],
      "text/plain": [
       "                                  count          mean       std        min  \\\n",
       "children                         6466.0  1.822373e-15  1.000077  -0.704549   \n",
       "year_last_moved                  6466.0  7.515581e-16  1.000077 -15.369932   \n",
       "Average.Credit.Card.Transaction  6466.0 -2.087807e-16  1.000077  -0.461920   \n",
       "Balance.Transfer                 6466.0 -3.815211e-17  1.000077  -0.571650   \n",
       "Term.Deposit                     6466.0 -5.125982e-16  1.000077  -0.508870   \n",
       "...                                 ...           ...       ...        ...   \n",
       "region_South East                6466.0  8.128357e-17  1.000077  -0.518016   \n",
       "region_South West                6466.0  1.366745e-16  1.000077  -0.325080   \n",
       "region_Unknown                   6466.0  4.200338e-16  1.000077  -0.345349   \n",
       "region_Wales                     6466.0 -4.456517e-17  1.000077  -0.241740   \n",
       "region_West Midlands             6466.0  2.184045e-17  1.000077  -0.299114   \n",
       "\n",
       "                                      25%       50%       75%        max  \n",
       "children                        -0.704549 -0.704549  0.392396   3.683234  \n",
       "year_last_moved                  0.012145  0.089911  0.136570   0.175453  \n",
       "Average.Credit.Card.Transaction -0.461920 -0.461920  0.007583  12.504434  \n",
       "Balance.Transfer                -0.571650 -0.358470  0.255778  35.406411  \n",
       "Term.Deposit                    -0.508870 -0.508870  0.122759  13.658474  \n",
       "...                                   ...       ...       ...        ...  \n",
       "region_South East               -0.518016 -0.518016 -0.518016   1.930442  \n",
       "region_South West               -0.325080 -0.325080 -0.325080   3.076164  \n",
       "region_Unknown                  -0.345349 -0.345349 -0.345349   2.895620  \n",
       "region_Wales                    -0.241740 -0.241740 -0.241740   4.136671  \n",
       "region_West Midlands            -0.299114 -0.299114 -0.299114   3.343206  \n",
       "\n",
       "[71 rows x 8 columns]"
      ]
     },
     "execution_count": 72,
     "metadata": {},
     "output_type": "execute_result"
    }
   ],
   "source": [
    "X_train_s.describe().T"
   ]
  },
  {
   "cell_type": "code",
   "execution_count": 73,
   "id": "0be78a3b",
   "metadata": {},
   "outputs": [],
   "source": [
    "from sklearn.linear_model import LogisticRegression"
   ]
  },
  {
   "cell_type": "code",
   "execution_count": 74,
   "id": "7b48ec39",
   "metadata": {},
   "outputs": [],
   "source": [
    "params={'class_weight':['balanced',None],\n",
    "        'penalty':['l1','l2'],\n",
    "        'C':[.0001,.0005,.001,.005,.01,.05,.1,1,2,5]}"
   ]
  },
  {
   "cell_type": "code",
   "execution_count": 75,
   "id": "68227401",
   "metadata": {},
   "outputs": [],
   "source": [
    "model=LogisticRegression(fit_intercept=True)"
   ]
  },
  {
   "cell_type": "code",
   "execution_count": 76,
   "id": "4983f346",
   "metadata": {},
   "outputs": [],
   "source": [
    "from sklearn.model_selection import GridSearchCV"
   ]
  },
  {
   "cell_type": "code",
   "execution_count": 77,
   "id": "b979277e",
   "metadata": {},
   "outputs": [],
   "source": [
    "grid_search=GridSearchCV(model,\n",
    "                         param_grid=params,\n",
    "                         cv=10,\n",
    "                         scoring=\"roc_auc\",\n",
    "                         n_jobs=-1,\n",
    "                         verbose=20)"
   ]
  },
  {
   "cell_type": "code",
   "execution_count": 78,
   "id": "81a53039",
   "metadata": {},
   "outputs": [
    {
     "name": "stdout",
     "output_type": "stream",
     "text": [
      "Fitting 10 folds for each of 40 candidates, totalling 400 fits\n"
     ]
    },
    {
     "name": "stderr",
     "output_type": "stream",
     "text": [
      "C:\\Users\\HP\\anaconda3\\lib\\site-packages\\sklearn\\model_selection\\_search.py:922: UserWarning: One or more of the test scores are non-finite: [       nan 0.86375944        nan 0.85404621        nan 0.90585583\n",
      "        nan 0.89552493        nan 0.92128458        nan 0.91385733\n",
      "        nan 0.93862168        nan 0.93441836        nan 0.94277243\n",
      "        nan 0.93794892        nan 0.94761616        nan 0.94102055\n",
      "        nan 0.94825391        nan 0.94076985        nan 0.9480712\n",
      "        nan 0.93871471        nan 0.94797478        nan 0.93837157\n",
      "        nan 0.94785537        nan 0.93815066]\n",
      "  warnings.warn(\n"
     ]
    },
    {
     "data": {
      "text/plain": [
       "GridSearchCV(cv=10, estimator=LogisticRegression(), n_jobs=-1,\n",
       "             param_grid={'C': [0.0001, 0.0005, 0.001, 0.005, 0.01, 0.05, 0.1, 1,\n",
       "                               2, 5],\n",
       "                         'class_weight': ['balanced', None],\n",
       "                         'penalty': ['l1', 'l2']},\n",
       "             scoring='roc_auc', verbose=20)"
      ]
     },
     "execution_count": 78,
     "metadata": {},
     "output_type": "execute_result"
    }
   ],
   "source": [
    "grid_search.fit(X_train_s,y_train)"
   ]
  },
  {
   "cell_type": "code",
   "execution_count": 79,
   "id": "83bdd17f",
   "metadata": {},
   "outputs": [
    {
     "data": {
      "text/plain": [
       "LogisticRegression(C=0.1, class_weight='balanced')"
      ]
     },
     "execution_count": 79,
     "metadata": {},
     "output_type": "execute_result"
    }
   ],
   "source": [
    "grid_search.best_estimator_"
   ]
  },
  {
   "cell_type": "code",
   "execution_count": 80,
   "id": "d7c7f4df",
   "metadata": {},
   "outputs": [],
   "source": [
    "def report(results, n_top=3):\n",
    "    for i in range(1, n_top + 1):\n",
    "        candidates = np.flatnonzero(results['rank_test_score'] == i)\n",
    "        for candidate in candidates:\n",
    "            print(\"Model with rank: {0}\".format(i))\n",
    "            print(\"Mean validation score: {0:.6f} (std: {1:.6f})\".format(\n",
    "                  results['mean_test_score'][candidate],\n",
    "                  results['std_test_score'][candidate]))\n",
    "            print(\"Parameters: {0}\".format(results['params'][candidate]))\n",
    "            print(\"\")"
   ]
  },
  {
   "cell_type": "code",
   "execution_count": 81,
   "id": "ae91d5d2",
   "metadata": {},
   "outputs": [],
   "source": [
    "logr=grid_search.best_estimator_"
   ]
  },
  {
   "cell_type": "code",
   "execution_count": 82,
   "id": "d4289441",
   "metadata": {},
   "outputs": [
    {
     "name": "stdout",
     "output_type": "stream",
     "text": [
      "Model with rank: 1\n",
      "Mean validation score: 0.948254 (std: 0.015346)\n",
      "Parameters: {'C': 0.1, 'class_weight': 'balanced', 'penalty': 'l2'}\n",
      "\n",
      "Model with rank: 2\n",
      "Mean validation score: 0.948071 (std: 0.016014)\n",
      "Parameters: {'C': 1, 'class_weight': 'balanced', 'penalty': 'l2'}\n",
      "\n",
      "Model with rank: 3\n",
      "Mean validation score: 0.947975 (std: 0.016285)\n",
      "Parameters: {'C': 2, 'class_weight': 'balanced', 'penalty': 'l2'}\n",
      "\n",
      "Model with rank: 4\n",
      "Mean validation score: 0.947855 (std: 0.016469)\n",
      "Parameters: {'C': 5, 'class_weight': 'balanced', 'penalty': 'l2'}\n",
      "\n",
      "Model with rank: 5\n",
      "Mean validation score: 0.947616 (std: 0.015612)\n",
      "Parameters: {'C': 0.05, 'class_weight': 'balanced', 'penalty': 'l2'}\n",
      "\n"
     ]
    }
   ],
   "source": [
    "report(grid_search.cv_results_,5)"
   ]
  },
  {
   "cell_type": "code",
   "execution_count": 83,
   "id": "55e6dbb7",
   "metadata": {},
   "outputs": [],
   "source": [
    "logr=LogisticRegression(fit_intercept=True,\n",
    "                        **{'C': 0.1, 'class_weight': 'balanced', 'penalty': 'l1'},solver='liblinear')\n",
    "# default solver lbfgs does not support l1 penalty for some versions of sklearn\n",
    "# if you get an error like that , simply use solver='liblinear', it supports both l1 & l2 penalty\n"
   ]
  },
  {
   "cell_type": "code",
   "execution_count": 84,
   "id": "52af0dee",
   "metadata": {},
   "outputs": [
    {
     "data": {
      "text/plain": [
       "LogisticRegression(C=0.1, class_weight='balanced', penalty='l1',\n",
       "                   solver='liblinear')"
      ]
     },
     "execution_count": 84,
     "metadata": {},
     "output_type": "execute_result"
    }
   ],
   "source": [
    "logr.fit(X_train_s,y_train)"
   ]
  },
  {
   "cell_type": "code",
   "execution_count": 85,
   "id": "1f72718c",
   "metadata": {},
   "outputs": [
    {
     "data": {
      "text/plain": [
       "21"
      ]
     },
     "execution_count": 85,
     "metadata": {},
     "output_type": "execute_result"
    }
   ],
   "source": [
    "(logr.coef_[0]==[0]).sum()"
   ]
  },
  {
   "cell_type": "code",
   "execution_count": 86,
   "id": "9d58db4d",
   "metadata": {},
   "outputs": [],
   "source": [
    "from sklearn.metrics import roc_auc_score\n",
    "pred_y=logr.predict(X_test_s)"
   ]
  },
  {
   "cell_type": "code",
   "execution_count": 87,
   "id": "33dca7f5",
   "metadata": {},
   "outputs": [
    {
     "data": {
      "text/plain": [
       "0.7861256544502618"
      ]
     },
     "execution_count": 87,
     "metadata": {},
     "output_type": "execute_result"
    }
   ],
   "source": [
    "score=roc_auc_score(pred_y,y_test)\n",
    "score"
   ]
  },
  {
   "cell_type": "code",
   "execution_count": 88,
   "id": "7fd775f2",
   "metadata": {},
   "outputs": [],
   "source": [
    "from sklearn.ensemble import RandomForestClassifier"
   ]
  },
  {
   "cell_type": "code",
   "execution_count": 89,
   "id": "37ed3744",
   "metadata": {},
   "outputs": [],
   "source": [
    "from sklearn.model_selection import RandomizedSearchCV"
   ]
  },
  {
   "cell_type": "code",
   "execution_count": 90,
   "id": "ee11e396",
   "metadata": {},
   "outputs": [],
   "source": [
    "clf = RandomForestClassifier()"
   ]
  },
  {
   "cell_type": "code",
   "execution_count": 91,
   "id": "b4a6a031",
   "metadata": {},
   "outputs": [
    {
     "data": {
      "text/plain": [
       "(6466, 71)"
      ]
     },
     "execution_count": 91,
     "metadata": {},
     "output_type": "execute_result"
    }
   ],
   "source": [
    "X_train_s.shape"
   ]
  },
  {
   "cell_type": "code",
   "execution_count": 92,
   "id": "39c421de",
   "metadata": {},
   "outputs": [],
   "source": [
    "param_dist = {\"n_estimators\":[100,200,300,500,700,1000],\n",
    "              \"max_features\": [10,20,30,40,50,60,70],\n",
    "              \"bootstrap\": [True, False],\n",
    "              'class_weight':[None,'balanced'], \n",
    "                'criterion':['entropy','gini'],\n",
    "                'max_depth':[None,5,10,15,20,30,50,70],\n",
    "                'min_samples_leaf':[1,2,5,10,15,20], \n",
    "                'min_samples_split':[2,5,10,15,20]\n",
    "                  }"
   ]
  },
  {
   "cell_type": "code",
   "execution_count": null,
   "id": "26e8c99c",
   "metadata": {},
   "outputs": [
    {
     "name": "stdout",
     "output_type": "stream",
     "text": [
      "Fitting 10 folds for each of 500 candidates, totalling 5000 fits\n"
     ]
    }
   ],
   "source": [
    "# run randomized search\n",
    "n_iter_search = 500\n",
    "# n_iter parameter of RandomizedSeacrhCV controls, how many \n",
    "# parameter combination will be tried; out of all possible given values\n",
    "\n",
    "random_search = RandomizedSearchCV(clf, param_distributions=param_dist,\n",
    "                                   n_iter=n_iter_search,\n",
    "                                   scoring='roc_auc',\n",
    "                                   cv=10,\n",
    "                                  n_jobs=-1,verbose=20)\n",
    "random_search.fit(X_train_s, y_train)"
   ]
  },
  {
   "cell_type": "code",
   "execution_count": null,
   "id": "3876dfef",
   "metadata": {},
   "outputs": [],
   "source": [
    "random_search.best_estimator_"
   ]
  },
  {
   "cell_type": "code",
   "execution_count": null,
   "id": "79449f5d",
   "metadata": {},
   "outputs": [],
   "source": [
    "report(random_search.cv_results_,5)"
   ]
  },
  {
   "cell_type": "code",
   "execution_count": 91,
   "id": "7f182ca3",
   "metadata": {},
   "outputs": [],
   "source": [
    "rf=RandomForestClassifier(bootstrap=False, class_weight='balanced',\n",
    "                       criterion='entropy', max_depth=50, max_features=20,\n",
    "                       min_samples_leaf=2, min_samples_split=10,\n",
    "                       n_estimators=200)"
   ]
  },
  {
   "cell_type": "code",
   "execution_count": 92,
   "id": "f49aeba5",
   "metadata": {},
   "outputs": [
    {
     "data": {
      "text/plain": [
       "RandomForestClassifier(bootstrap=False, class_weight='balanced',\n",
       "                       criterion='entropy', max_depth=50, max_features=20,\n",
       "                       min_samples_leaf=2, min_samples_split=10,\n",
       "                       n_estimators=200)"
      ]
     },
     "execution_count": 92,
     "metadata": {},
     "output_type": "execute_result"
    }
   ],
   "source": [
    "rf.fit(X_train_s, y_train)"
   ]
  },
  {
   "cell_type": "code",
   "execution_count": 93,
   "id": "fd30e3ad",
   "metadata": {},
   "outputs": [],
   "source": [
    "feat_imp_df=pd.DataFrame({'features':X_train_s.columns,\n",
    "                          'importance':rf.feature_importances_})\n",
    "\n",
    "feat_imp_df=feat_imp_df.sort_values('importance',ascending=False)"
   ]
  },
  {
   "cell_type": "code",
   "execution_count": 94,
   "id": "c79def5f",
   "metadata": {},
   "outputs": [
    {
     "data": {
      "text/html": [
       "<div>\n",
       "<style scoped>\n",
       "    .dataframe tbody tr th:only-of-type {\n",
       "        vertical-align: middle;\n",
       "    }\n",
       "\n",
       "    .dataframe tbody tr th {\n",
       "        vertical-align: top;\n",
       "    }\n",
       "\n",
       "    .dataframe thead th {\n",
       "        text-align: right;\n",
       "    }\n",
       "</style>\n",
       "<table border=\"1\" class=\"dataframe\">\n",
       "  <thead>\n",
       "    <tr style=\"text-align: right;\">\n",
       "      <th></th>\n",
       "      <th>features</th>\n",
       "      <th>importance</th>\n",
       "    </tr>\n",
       "  </thead>\n",
       "  <tbody>\n",
       "    <tr>\n",
       "      <th>12</th>\n",
       "      <td>Online.Purchase.Amount</td>\n",
       "      <td>2.446153e-01</td>\n",
       "    </tr>\n",
       "    <tr>\n",
       "      <th>10</th>\n",
       "      <td>Investment.Tax.Saving.Bond</td>\n",
       "      <td>1.310790e-01</td>\n",
       "    </tr>\n",
       "    <tr>\n",
       "      <th>2</th>\n",
       "      <td>Average.Credit.Card.Transaction</td>\n",
       "      <td>9.147204e-02</td>\n",
       "    </tr>\n",
       "    <tr>\n",
       "      <th>14</th>\n",
       "      <td>Investment.in.Equity</td>\n",
       "      <td>9.112224e-02</td>\n",
       "    </tr>\n",
       "    <tr>\n",
       "      <th>13</th>\n",
       "      <td>Investment.in.Commudity</td>\n",
       "      <td>7.101209e-02</td>\n",
       "    </tr>\n",
       "    <tr>\n",
       "      <th>...</th>\n",
       "      <td>...</td>\n",
       "      <td>...</td>\n",
       "    </tr>\n",
       "    <tr>\n",
       "      <th>58</th>\n",
       "      <td>gender_Unknown</td>\n",
       "      <td>4.446620e-05</td>\n",
       "    </tr>\n",
       "    <tr>\n",
       "      <th>64</th>\n",
       "      <td>region_Northern Ireland</td>\n",
       "      <td>2.916948e-05</td>\n",
       "    </tr>\n",
       "    <tr>\n",
       "      <th>20</th>\n",
       "      <td>status_Unknown</td>\n",
       "      <td>5.352545e-20</td>\n",
       "    </tr>\n",
       "    <tr>\n",
       "      <th>61</th>\n",
       "      <td>region_Isle of Man</td>\n",
       "      <td>0.000000e+00</td>\n",
       "    </tr>\n",
       "    <tr>\n",
       "      <th>28</th>\n",
       "      <td>occupation_partner_Student</td>\n",
       "      <td>0.000000e+00</td>\n",
       "    </tr>\n",
       "  </tbody>\n",
       "</table>\n",
       "<p>71 rows × 2 columns</p>\n",
       "</div>"
      ],
      "text/plain": [
       "                           features    importance\n",
       "12           Online.Purchase.Amount  2.446153e-01\n",
       "10       Investment.Tax.Saving.Bond  1.310790e-01\n",
       "2   Average.Credit.Card.Transaction  9.147204e-02\n",
       "14             Investment.in.Equity  9.112224e-02\n",
       "13          Investment.in.Commudity  7.101209e-02\n",
       "..                              ...           ...\n",
       "58                   gender_Unknown  4.446620e-05\n",
       "64          region_Northern Ireland  2.916948e-05\n",
       "20                   status_Unknown  5.352545e-20\n",
       "61               region_Isle of Man  0.000000e+00\n",
       "28       occupation_partner_Student  0.000000e+00\n",
       "\n",
       "[71 rows x 2 columns]"
      ]
     },
     "execution_count": 94,
     "metadata": {},
     "output_type": "execute_result"
    }
   ],
   "source": [
    "feat_imp_df"
   ]
  },
  {
   "cell_type": "code",
   "execution_count": 95,
   "id": "cf0fff8a",
   "metadata": {},
   "outputs": [],
   "source": [
    "from sklearn.metrics import roc_auc_score\n",
    "pred_y=rf.predict(X_test_s)"
   ]
  },
  {
   "cell_type": "code",
   "execution_count": 96,
   "id": "b2cb42f8",
   "metadata": {},
   "outputs": [
    {
     "data": {
      "text/plain": [
       "0.89569686971916"
      ]
     },
     "execution_count": 96,
     "metadata": {},
     "output_type": "execute_result"
    }
   ],
   "source": [
    "score_rf=roc_auc_score(pred_y,y_test)\n",
    "score_rf"
   ]
  },
  {
   "cell_type": "code",
   "execution_count": 97,
   "id": "e57bd9e1",
   "metadata": {},
   "outputs": [],
   "source": [
    "from sklearn.svm import SVC"
   ]
  },
  {
   "cell_type": "code",
   "execution_count": 98,
   "id": "9a0a8113",
   "metadata": {},
   "outputs": [],
   "source": [
    "from scipy.stats import reciprocal, uniform\n",
    "param_distributions = {\"gamma\": ['scale','auto'], \"C\": [13,4,5,7,8,9,10],\n",
    "                       'kernel':['rbf','linear'],'class_weight':[None,'balanced']}"
   ]
  },
  {
   "cell_type": "code",
   "execution_count": 99,
   "id": "170d098e",
   "metadata": {},
   "outputs": [],
   "source": [
    "model= SVC()"
   ]
  },
  {
   "cell_type": "code",
   "execution_count": 100,
   "id": "f603c70b",
   "metadata": {},
   "outputs": [],
   "source": [
    "grid_search=GridSearchCV(model,\n",
    "                         param_grid=param_distributions,\n",
    "                         cv=5,\n",
    "                         scoring=\"roc_auc\",\n",
    "                         n_jobs=-1,\n",
    "                         verbose=20)"
   ]
  },
  {
   "cell_type": "code",
   "execution_count": 101,
   "id": "18a49456",
   "metadata": {},
   "outputs": [
    {
     "name": "stdout",
     "output_type": "stream",
     "text": [
      "Fitting 5 folds for each of 56 candidates, totalling 280 fits\n"
     ]
    },
    {
     "data": {
      "text/plain": [
       "GridSearchCV(cv=5, estimator=SVC(), n_jobs=-1,\n",
       "             param_grid={'C': [13, 4, 5, 7, 8, 9, 10],\n",
       "                         'class_weight': [None, 'balanced'],\n",
       "                         'gamma': ['scale', 'auto'],\n",
       "                         'kernel': ['rbf', 'linear']},\n",
       "             scoring='roc_auc', verbose=20)"
      ]
     },
     "execution_count": 101,
     "metadata": {},
     "output_type": "execute_result"
    }
   ],
   "source": [
    "grid_search.fit(X_train_s,y_train)"
   ]
  },
  {
   "cell_type": "code",
   "execution_count": null,
   "id": "94e78c2f",
   "metadata": {},
   "outputs": [],
   "source": [
    "grid_search.best_estimator_"
   ]
  },
  {
   "cell_type": "code",
   "execution_count": null,
   "id": "e9df9704",
   "metadata": {},
   "outputs": [],
   "source": [
    "final_model=grid_search.best_estimator_.fit(X_train_s,y_train)"
   ]
  },
  {
   "cell_type": "code",
   "execution_count": null,
   "id": "7b93688e",
   "metadata": {},
   "outputs": [],
   "source": [
    "pred_y=final_model.predict(X_test_s)\n",
    "score_rf=roc_auc_score(pred_y,y_test)"
   ]
  },
  {
   "cell_type": "code",
   "execution_count": null,
   "id": "14ba5e06",
   "metadata": {},
   "outputs": [],
   "source": [
    "score_rf"
   ]
  },
  {
   "cell_type": "code",
   "execution_count": null,
   "id": "47bdf190",
   "metadata": {},
   "outputs": [],
   "source": [
    "from sklearn.metrics import classification_report,confusion_matrix,ConfusionMatrixDisplay,plot_confusion_matrix"
   ]
  },
  {
   "cell_type": "code",
   "execution_count": null,
   "id": "f67acd68",
   "metadata": {},
   "outputs": [],
   "source": [
    "classification_report(y_test,pred_y)"
   ]
  },
  {
   "cell_type": "code",
   "execution_count": null,
   "id": "9fd77196",
   "metadata": {},
   "outputs": [],
   "source": [
    "X_test_s.iloc[1]"
   ]
  },
  {
   "cell_type": "code",
   "execution_count": null,
   "id": "bf83425e",
   "metadata": {},
   "outputs": [],
   "source": [
    "confusion_matrix = confusion_matrix(y_test, pred_y)"
   ]
  },
  {
   "cell_type": "code",
   "execution_count": null,
   "id": "fc0189f7",
   "metadata": {},
   "outputs": [],
   "source": [
    "confusion_matrix"
   ]
  },
  {
   "cell_type": "code",
   "execution_count": null,
   "id": "7a2162ad",
   "metadata": {},
   "outputs": [],
   "source": [
    "#plt.grid(False)\n",
    "disp=plot_confusion_matrix(final_model,X_test_s,y_test,cmap='Blues')\n",
    "#plt.show()"
   ]
  },
  {
   "cell_type": "code",
   "execution_count": null,
   "id": "0b66bb1d",
   "metadata": {},
   "outputs": [],
   "source": [
    "cross_table = pd.crosstab(y_test,pred_y, rownames=['Actual'], colnames=['Predicted'], margins=True)\n",
    "cross_table"
   ]
  },
  {
   "cell_type": "code",
   "execution_count": null,
   "id": "05a2eefe",
   "metadata": {},
   "outputs": [],
   "source": []
  }
 ],
 "metadata": {
  "kernelspec": {
   "display_name": "Python 3 (ipykernel)",
   "language": "python",
   "name": "python3"
  },
  "language_info": {
   "codemirror_mode": {
    "name": "ipython",
    "version": 3
   },
   "file_extension": ".py",
   "mimetype": "text/x-python",
   "name": "python",
   "nbconvert_exporter": "python",
   "pygments_lexer": "ipython3",
   "version": "3.9.7"
  }
 },
 "nbformat": 4,
 "nbformat_minor": 5
}
